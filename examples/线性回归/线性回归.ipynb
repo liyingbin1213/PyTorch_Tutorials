{
 "cells": [
  {
   "cell_type": "markdown",
   "metadata": {},
   "source": [
    "# 线性回归"
   ]
  },
  {
   "cell_type": "code",
   "execution_count": 7,
   "metadata": {},
   "outputs": [
    {
     "name": "stdout",
     "output_type": "stream",
     "text": [
      "Epoch [5/60], Loss: 27.7433\n",
      "Epoch [10/60], Loss: 11.3412\n",
      "Epoch [15/60], Loss: 4.6965\n",
      "Epoch [20/60], Loss: 2.0046\n",
      "Epoch [25/60], Loss: 0.9141\n",
      "Epoch [30/60], Loss: 0.4723\n",
      "Epoch [35/60], Loss: 0.2933\n",
      "Epoch [40/60], Loss: 0.2208\n",
      "Epoch [45/60], Loss: 0.1914\n",
      "Epoch [50/60], Loss: 0.1795\n",
      "Epoch [55/60], Loss: 0.1747\n",
      "Epoch [60/60], Loss: 0.1727\n"
     ]
    },
    {
     "data": {
      "image/png": "[encoded data removed]",
      "text/plain": [
       "<Figure size 432x288 with 1 Axes>"
      ]
     },
     "metadata": {},
     "output_type": "display_data"
    }
   ],
   "source": [
    "import torch\n",
    "import torch.nn as nn\n",
    "import numpy as np\n",
    "import matplotlib.pyplot as plt\n",
    "\n",
    "# 设置超参数\n",
    "input_size = 1\n",
    "output_size = 1\n",
    "num_epochs = 60  # 迭代次数\n",
    "learning_rate = 1e-3\n",
    "\n",
    "# 模拟一个训练集\n",
    "x_train = np.array(\n",
    "    [[3.3], [4.4], [5.5], [6.71], [6.93], [4.168], [9.779], [6.182], [7.59],\n",
    "     [2.167], [7.042], [10.791], [5.313], [7.997], [3.1]],\n",
    "    dtype=np.float32)\n",
    "\n",
    "y_train = np.array(\n",
    "    [[1.7], [2.76], [2.09], [3.19], [1.694], [1.573], [3.366], [2.596], [2.53],\n",
    "     [1.221], [2.827], [3.465], [1.65], [2.904], [1.3]],\n",
    "    dtype=np.float32)\n",
    "\n",
    "# 线性回归模型\n",
    "model = nn.Linear(input_size, output_size)\n",
    "\n",
    "# 损失函数与优化器\n",
    "criterion = nn.MSELoss()  # 均方误差\n",
    "optimizer = torch.optim.SGD(model.parameters(), lr=learning_rate)\n",
    "\n",
    "# 训练模型\n",
    "for epoch in range(num_epochs):\n",
    "    # numpy 数组转换为 torch Tensor\n",
    "    inputs = torch.from_numpy(x_train)\n",
    "    targets = torch.from_numpy(y_train)\n",
    "\n",
    "    # 前向传播\n",
    "    outputs = model(inputs)\n",
    "    loss = criterion(outputs, targets)\n",
    "\n",
    "    # 反向传播与优化\n",
    "    optimizer.zero_grad()\n",
    "    loss.backward()\n",
    "    optimizer.step()\n",
    "\n",
    "    if (epoch + 1) % 5 == 0:\n",
    "        print('Epoch [{}/{}], Loss: {:.4f}'.format(epoch + 1, num_epochs,\n",
    "                                                   loss.item()))\n",
    "\n",
    "# 作图\n",
    "predicted = model(torch.from_numpy(x_train)).detach().numpy()\n",
    "# model(torch.from_numpy(x_train)) 是预测数据\n",
    "# detach 将 Tensor 从创建它的计算图中分离出来，使其成为一片叶子\n",
    "plt.plot(x_train, y_train, 'ro', label='Original data') # ro 红点\n",
    "plt.plot(x_train, predicted, label='Fitted line')\n",
    "plt.legend()\n",
    "plt.show()\n",
    "\n",
    "# 保存模型检查点\n",
    "torch.save(model.state_dict(), 'model.ckpt')"
   ]
  },
  {
   "cell_type": "code",
   "execution_count": null,
   "metadata": {},
   "outputs": [],
   "source": []
  }
 ],
 "metadata": {
  "kernelspec": {
   "display_name": "Python 3",
   "language": "python",
   "name": "python3"
  },
  "language_info": {
   "codemirror_mode": {
    "name": "ipython",
    "version": 3
   },
   "file_extension": ".py",
   "mimetype": "text/x-python",
   "name": "python",
   "nbconvert_exporter": "python",
   "pygments_lexer": "ipython3",
   "version": "3.6.5"
  }
 },
 "nbformat": 4,
 "nbformat_minor": 2
}
